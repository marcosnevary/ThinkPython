{
 "cells": [
  {
   "cell_type": "markdown",
   "metadata": {},
   "source": [
    "# **Resolução dos Exercícios do Capítulo 2**"
   ]
  },
  {
   "cell_type": "code",
   "execution_count": null,
   "metadata": {},
   "outputs": [],
   "source": [
    "import math"
   ]
  },
  {
   "cell_type": "markdown",
   "metadata": {},
   "source": [
    "1. The volume of a sphere with radius r is (4/3)*πr³. What is the volume of a sphere with radius 5?\n",
    "Start with a variable named radius and then assign the result to a variable named volume.\n",
    "Display the result.\n",
    "Add comments to indicate that radius is in centimeters and volume is in cubic centimeters."
   ]
  },
  {
   "cell_type": "code",
   "execution_count": 2,
   "metadata": {},
   "outputs": [
    {
     "data": {
      "text/plain": [
       "523.5987755982989"
      ]
     },
     "execution_count": 2,
     "metadata": {},
     "output_type": "execute_result"
    }
   ],
   "source": [
    "radius = 5 # cm\n",
    "volume = 4/3*math.pi*radius**3 # cm³\n",
    "\n",
    "volume"
   ]
  },
  {
   "cell_type": "markdown",
   "metadata": {},
   "source": [
    "2. A rule of trigonometry says that for any value of x, cos²(x) + sin²(x) = 1. Let’s see if it’s true for a specific value of x like 42.\n",
    "Create a variable named x with this value. Then use math.cos and math.sin to compute the sine and cosine of x, and the sum of their squares.\n",
    "The result should be close to 1. It might not be exactly 1 because floating-point arithmetic is not exact—it is only approximately correct."
   ]
  },
  {
   "cell_type": "code",
   "execution_count": 3,
   "metadata": {},
   "outputs": [
    {
     "data": {
      "text/plain": [
       "1.0"
      ]
     },
     "execution_count": 3,
     "metadata": {},
     "output_type": "execute_result"
    }
   ],
   "source": [
    "x = 42\n",
    "cos = math.cos(x)\n",
    "sin = math.sin(x)\n",
    "sum = cos**2 + sin**2\n",
    "\n",
    "sum"
   ]
  },
  {
   "cell_type": "markdown",
   "metadata": {},
   "source": [
    "3. Now let’s compute e² three ways:\n",
    "    1. Use math.e and the exponentiation operator (**).\n",
    "    2. Use math.pow to raise math.e to the power 2.\n",
    "    3. Use math.exp, which takes as an argument a value, x, and computes ex."
   ]
  },
  {
   "cell_type": "code",
   "execution_count": 5,
   "metadata": {},
   "outputs": [
    {
     "name": "stdout",
     "output_type": "stream",
     "text": [
      "7.3890560989306495\n",
      "7.3890560989306495\n",
      "7.38905609893065\n"
     ]
    }
   ],
   "source": [
    "first_way = math.e**2\n",
    "second_way = math.pow(math.e, 2)\n",
    "third_way = math.exp(2)\n",
    "\n",
    "print(first_way)\n",
    "print(second_way)\n",
    "print(third_way)"
   ]
  }
 ],
 "metadata": {
  "kernelspec": {
   "display_name": "Python 3",
   "language": "python",
   "name": "python3"
  },
  "language_info": {
   "codemirror_mode": {
    "name": "ipython",
    "version": 3
   },
   "file_extension": ".py",
   "mimetype": "text/x-python",
   "name": "python",
   "nbconvert_exporter": "python",
   "pygments_lexer": "ipython3",
   "version": "3.12.3"
  }
 },
 "nbformat": 4,
 "nbformat_minor": 2
}
